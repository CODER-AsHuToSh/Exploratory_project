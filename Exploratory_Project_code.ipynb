{
  "nbformat": 4,
  "nbformat_minor": 0,
  "metadata": {
    "colab": {
      "name": "Exploratory_Project_code.ipynb",
      "provenance": [],
      "authorship_tag": "ABX9TyO8F7fcKItQnzTW9TKKCTmN",
      "include_colab_link": true
    },
    "kernelspec": {
      "name": "python3",
      "display_name": "Python 3"
    },
    "language_info": {
      "name": "python"
    }
  },
  "cells": [
    {
      "cell_type": "markdown",
      "metadata": {
        "id": "view-in-github",
        "colab_type": "text"
      },
      "source": [
        "<a href=\"https://colab.research.google.com/github/ashutosh-gupta2111/Exploratory_project/blob/master/Exploratory_Project_code.ipynb\" target=\"_parent\"><img src=\"https://colab.research.google.com/assets/colab-badge.svg\" alt=\"Open In Colab\"/></a>"
      ]
    },
    {
      "cell_type": "markdown",
      "source": [
        "**Welcome to the code of Exploratory Project of Ashutosh Gupta.**"
      ],
      "metadata": {
        "id": "Wc9lTpepck2e"
      }
    },
    {
      "cell_type": "code",
      "source": [
        "from google.colab import drive\n",
        "drive.mount('/content/grive')"
      ],
      "metadata": {
        "colab": {
          "base_uri": "https://localhost:8080/"
        },
        "id": "v6zqHNwVZr6p",
        "outputId": "e3eae84b-0948-4eba-8af6-91afaaf0ea1b"
      },
      "execution_count": null,
      "outputs": [
        {
          "output_type": "stream",
          "name": "stdout",
          "text": [
            "Mounted at /content/grive\n"
          ]
        }
      ]
    },
    {
      "cell_type": "code",
      "source": [
        "import numpy as np \n",
        "import pandas as pd \n",
        "import os\n",
        "import cv2"
      ],
      "metadata": {
        "id": "F6wmqTcxcgQY"
      },
      "execution_count": null,
      "outputs": []
    },
    {
      "cell_type": "markdown",
      "source": [
        "Numpy is the library for helping in linear algebra.\n",
        "Pandas is used for data visualization.\n",
        "os is used mainly in giving file support.\n",
        "cv2 is main python library that is used in this model for prediction. \n"
      ],
      "metadata": {
        "id": "WAjIMc5Cc-_K"
      }
    },
    {
      "cell_type": "code",
      "source": [
        "labels = os.listdir('/content/grive/MyDrive/train')"
      ],
      "metadata": {
        "id": "UkrWJVmCbLcl"
      },
      "execution_count": null,
      "outputs": []
    },
    {
      "cell_type": "code",
      "source": [
        "print(labels)"
      ],
      "metadata": {
        "colab": {
          "base_uri": "https://localhost:8080/"
        },
        "id": "mvf86NRvb5LY",
        "outputId": "e137d26b-53b4-4197-edaa-1c5a0465d356"
      },
      "execution_count": null,
      "outputs": [
        {
          "output_type": "stream",
          "name": "stdout",
          "text": [
            "['no_yawn', 'Open', 'yawn', 'Closed']\n"
          ]
        }
      ]
    },
    {
      "cell_type": "code",
      "source": [
        ""
      ],
      "metadata": {
        "id": "BWPowQwKeEeN"
      },
      "execution_count": null,
      "outputs": []
    }
  ]
}